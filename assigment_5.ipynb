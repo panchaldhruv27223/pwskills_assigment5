{
 "cells": [
  {
   "cell_type": "code",
   "execution_count": 1,
   "id": "743695c2",
   "metadata": {},
   "outputs": [],
   "source": [
    "# 1.  who developed python programming language ?"
   ]
  },
  {
   "cell_type": "code",
   "execution_count": 2,
   "id": "98767dad",
   "metadata": {},
   "outputs": [],
   "source": [
    "#ans 1 : Python was created by Guido van Rossum, and first released on February 20, 1991."
   ]
  },
  {
   "cell_type": "code",
   "execution_count": 3,
   "id": "8e2111ac",
   "metadata": {},
   "outputs": [],
   "source": [
    "#2. which type of programming does python support ?"
   ]
  },
  {
   "cell_type": "code",
   "execution_count": 4,
   "id": "564ddf09",
   "metadata": {},
   "outputs": [],
   "source": [
    "# python support object oriented programming language and structured programming language"
   ]
  },
  {
   "cell_type": "code",
   "execution_count": 5,
   "id": "3ffaeebe",
   "metadata": {},
   "outputs": [],
   "source": [
    "#3.  is python code sensitive when dealing with identifiers ?"
   ]
  },
  {
   "cell_type": "code",
   "execution_count": 6,
   "id": "b13a5396",
   "metadata": {},
   "outputs": [],
   "source": [
    "# yes  python is case sensitive "
   ]
  },
  {
   "cell_type": "code",
   "execution_count": 7,
   "id": "d12b2ce2",
   "metadata": {},
   "outputs": [],
   "source": [
    "#4. what is the correct extension of the python file ?\n"
   ]
  },
  {
   "cell_type": "code",
   "execution_count": 8,
   "id": "2e8e5c8d",
   "metadata": {},
   "outputs": [],
   "source": [
    "#  we generaly made python file using .py extension \n",
    "#  in python , python first interpret compiled  .py file code to bytecode \n",
    "#  and  made .pyc file ,\n",
    "# .pyc file to improve performance on subsequent executions\n",
    "\n",
    "#  other extention are : .py, .pyi, .pyc, .pyd, .pyo, .pyw, and .pyz"
   ]
  },
  {
   "cell_type": "code",
   "execution_count": 9,
   "id": "7162802c",
   "metadata": {},
   "outputs": [],
   "source": [
    "#5. is python code compiled or interpreted ?"
   ]
  },
  {
   "cell_type": "code",
   "execution_count": 10,
   "id": "1b885b4a",
   "metadata": {},
   "outputs": [],
   "source": [
    "# python code is first compiled and then interpreted ."
   ]
  },
  {
   "cell_type": "code",
   "execution_count": 11,
   "id": "dcf8d198",
   "metadata": {},
   "outputs": [],
   "source": [
    "#6. name a few blocks of code used to define in python language ?"
   ]
  },
  {
   "cell_type": "code",
   "execution_count": 12,
   "id": "c215e76e",
   "metadata": {},
   "outputs": [],
   "source": [
    "#  we create a  function code block ,\n",
    "#  class block\n"
   ]
  },
  {
   "cell_type": "code",
   "execution_count": 13,
   "id": "0c070bf1",
   "metadata": {},
   "outputs": [],
   "source": [
    "#7. state a character used to give single-line comments in python ?"
   ]
  },
  {
   "cell_type": "code",
   "execution_count": 14,
   "id": "dc8fefe7",
   "metadata": {},
   "outputs": [],
   "source": [
    "#  this -->(#) character is  used for single line comments "
   ]
  },
  {
   "cell_type": "code",
   "execution_count": 15,
   "id": "61fa4d2d",
   "metadata": {},
   "outputs": [],
   "source": [
    "# 8. mention function which can help us to find the version of python that we are currently working on?  "
   ]
  },
  {
   "cell_type": "code",
   "execution_count": 16,
   "id": "b4598c4e",
   "metadata": {},
   "outputs": [],
   "source": [
    "#   sys.version"
   ]
  },
  {
   "cell_type": "code",
   "execution_count": 17,
   "id": "1088e2c1",
   "metadata": {},
   "outputs": [
    {
     "data": {
      "text/plain": [
       "'3.9.7 (tags/v3.9.7:1016ef3, Aug 30 2021, 20:19:38) [MSC v.1929 64 bit (AMD64)]'"
      ]
     },
     "execution_count": 17,
     "metadata": {},
     "output_type": "execute_result"
    }
   ],
   "source": [
    "import sys\n",
    "sys.version"
   ]
  },
  {
   "cell_type": "code",
   "execution_count": 18,
   "id": "5d2c8a06",
   "metadata": {},
   "outputs": [],
   "source": [
    "# 9. python support the creation of anonymous function at runtime , using a construct called?"
   ]
  },
  {
   "cell_type": "code",
   "execution_count": 19,
   "id": "6fabd26b",
   "metadata": {},
   "outputs": [],
   "source": [
    "# lambda  "
   ]
  },
  {
   "cell_type": "code",
   "execution_count": 20,
   "id": "1a03d3be",
   "metadata": {},
   "outputs": [],
   "source": [
    "#  10.  what does pip stand for in python ?"
   ]
  },
  {
   "cell_type": "code",
   "execution_count": 21,
   "id": "d4ba59d1",
   "metadata": {},
   "outputs": [],
   "source": [
    "# pip is the standard tool used for installing Python packages and manage software packages"
   ]
  },
  {
   "cell_type": "code",
   "execution_count": 22,
   "id": "7c734a13",
   "metadata": {},
   "outputs": [],
   "source": [
    "# 11. mention a few built - in function in python ?"
   ]
  },
  {
   "cell_type": "code",
   "execution_count": 23,
   "id": "2e862aab",
   "metadata": {},
   "outputs": [],
   "source": [
    "# int()\n",
    "# str()\n",
    "# type()\n",
    "# float()\n",
    "# print()\n",
    "# sum()\n",
    "# list()\n",
    "# tuple()\n"
   ]
  },
  {
   "cell_type": "code",
   "execution_count": 24,
   "id": "0b2fce89",
   "metadata": {},
   "outputs": [],
   "source": [
    "# 12. what is the maximum possible length of an identifier in python ?"
   ]
  },
  {
   "cell_type": "code",
   "execution_count": 25,
   "id": "6ff1ebfd",
   "metadata": {},
   "outputs": [],
   "source": [
    "# An identifier can have a maximum length of 79 characters in Python. "
   ]
  },
  {
   "cell_type": "code",
   "execution_count": 26,
   "id": "1ea41061",
   "metadata": {},
   "outputs": [],
   "source": [
    "# 13. what are the benefits of using pyhton?\n"
   ]
  },
  {
   "cell_type": "code",
   "execution_count": 27,
   "id": "908d53d7",
   "metadata": {},
   "outputs": [],
   "source": [
    "#   object oriented programming\n",
    "#   easy to use and understand\n",
    "#   it is free\n",
    "#   lots of library support\n",
    "#   Dynamicaly typed language"
   ]
  },
  {
   "cell_type": "code",
   "execution_count": 28,
   "id": "eb0b4d69",
   "metadata": {},
   "outputs": [],
   "source": [
    "# 14 . how is memory managed in python?"
   ]
  },
  {
   "cell_type": "code",
   "execution_count": 29,
   "id": "896f3257",
   "metadata": {},
   "outputs": [],
   "source": [
    "#  Memory managed by private heap space \n",
    "#  Memory for Python private heap space is made available by Python's in-built garbage collector, \n",
    "#  which recycles and frees up all the unused memory."
   ]
  },
  {
   "cell_type": "code",
   "execution_count": 30,
   "id": "82241e8c",
   "metadata": {},
   "outputs": [],
   "source": [
    "# 15. how to install python on windows and set path variables ?"
   ]
  },
  {
   "cell_type": "code",
   "execution_count": 31,
   "id": "96bbb5ea",
   "metadata": {},
   "outputs": [],
   "source": [
    "# go to https://www.python.org/downloads/ \n",
    "# dwonload python as per requirement\n",
    "\n",
    "# click on python releases for windows , select the link for the latest python release - python 3.9.7\n",
    "# go to bottom and select either windows X86-64 executable python for 64 - bits"
   ]
  },
  {
   "cell_type": "code",
   "execution_count": 32,
   "id": "8b831900",
   "metadata": {},
   "outputs": [],
   "source": [
    "# 16. is indentation required in python?"
   ]
  },
  {
   "cell_type": "code",
   "execution_count": 33,
   "id": "b1b9d9d5",
   "metadata": {},
   "outputs": [],
   "source": [
    "#  indentation is the most important part in python \n",
    "#  because of indentation we can determine which code belongs to which part of program"
   ]
  }
 ],
 "metadata": {
  "kernelspec": {
   "display_name": "Python 3 (ipykernel)",
   "language": "python",
   "name": "python3"
  },
  "language_info": {
   "codemirror_mode": {
    "name": "ipython",
    "version": 3
   },
   "file_extension": ".py",
   "mimetype": "text/x-python",
   "name": "python",
   "nbconvert_exporter": "python",
   "pygments_lexer": "ipython3",
   "version": "3.9.7"
  }
 },
 "nbformat": 4,
 "nbformat_minor": 5
}
